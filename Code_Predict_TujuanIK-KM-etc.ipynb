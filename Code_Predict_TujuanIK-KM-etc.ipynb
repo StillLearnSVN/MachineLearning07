{
 "cells": [
  {
   "cell_type": "code",
   "execution_count": 1,
   "id": "f400e394-0351-43db-affb-f6257daee476",
   "metadata": {},
   "outputs": [
    {
     "name": "stdout",
     "output_type": "stream",
     "text": [
      "   Unnamed: 0  Unnamed: 1  angk status_akhir      tanggal_keluar  \\\n",
      "0         NaN         NaN  2020        Lulus 2022-08-03 14:24:00   \n",
      "1         NaN         NaN  2020        Lulus 2022-08-19 17:00:32   \n",
      "2         NaN         NaN  2020        Lulus 2022-08-26 07:31:41   \n",
      "3         NaN         NaN  2020        Lulus 2022-08-27 18:13:03   \n",
      "4         NaN         NaN  2020        Lulus 2022-08-28 12:59:05   \n",
      "\n",
      "         tanggal_masuk                 lokasi  \n",
      "0  2022-08-03 15:21:59  Kampus IT Del - Pos 1  \n",
      "1  2022-08-19 17:41:35  Kampus IT Del - Pos 1  \n",
      "2  2022-08-26 10:39:39  Kampus IT Del - Pos 1  \n",
      "3  2022-08-27 19:41:12  Kampus IT Del - Pos 1  \n",
      "4  2022-08-28 12:59:15  Kampus IT Del - Pos 1  \n",
      "<class 'pandas.core.frame.DataFrame'>\n",
      "RangeIndex: 112044 entries, 0 to 112043\n",
      "Data columns (total 7 columns):\n",
      " #   Column          Non-Null Count   Dtype         \n",
      "---  ------          --------------   -----         \n",
      " 0   Unnamed: 0      0 non-null       float64       \n",
      " 1   Unnamed: 1      0 non-null       float64       \n",
      " 2   angk            112044 non-null  int64         \n",
      " 3   status_akhir    112044 non-null  object        \n",
      " 4   tanggal_keluar  112044 non-null  datetime64[ns]\n",
      " 5   tanggal_masuk   112044 non-null  object        \n",
      " 6   lokasi          112044 non-null  object        \n",
      "dtypes: datetime64[ns](1), float64(2), int64(1), object(3)\n",
      "memory usage: 6.0+ MB\n",
      "None\n",
      "Unnamed: 0        112044\n",
      "Unnamed: 1        112044\n",
      "angk                   0\n",
      "status_akhir           0\n",
      "tanggal_keluar         0\n",
      "tanggal_masuk          0\n",
      "lokasi                 0\n",
      "dtype: int64\n"
     ]
    }
   ],
   "source": [
    "import pandas as pd\n",
    "\n",
    "file_path = \"Data LogIn-LogOut.xlsx\"\n",
    "data = pd.read_excel(file_path)\n",
    "\n",
    "# Melihat beberapa baris pertama dari data\n",
    "print(data.head())\n",
    "\n",
    "# Mengecek informasi dasar tentang dataset (termasuk tipe data dan jumlah nilai kosong)\n",
    "print(data.info())\n",
    "\n",
    "# Mengecek jumlah nilai kosong di setiap kolom\n",
    "print(data.isnull().sum())\n"
   ]
  },
  {
   "cell_type": "code",
   "execution_count": 2,
   "id": "42c4b29e-5603-410a-98c1-abe24fe9a445",
   "metadata": {},
   "outputs": [
    {
     "name": "stdout",
     "output_type": "stream",
     "text": [
      "Unnamed: 0               float64\n",
      "Unnamed: 1               float64\n",
      "angk                       int64\n",
      "status_akhir              object\n",
      "tanggal_keluar    datetime64[ns]\n",
      "tanggal_masuk     datetime64[ns]\n",
      "lokasi                    object\n",
      "dtype: object\n",
      "Unnamed: 0        112044\n",
      "Unnamed: 1        112044\n",
      "angk                   0\n",
      "status_akhir           0\n",
      "tanggal_keluar         0\n",
      "tanggal_masuk        237\n",
      "lokasi                 0\n",
      "dtype: int64\n"
     ]
    }
   ],
   "source": [
    "# Pastikan kolom tanggal memiliki tipe datetime\n",
    "data['tanggal_keluar'] = pd.to_datetime(data['tanggal_keluar'], errors='coerce')\n",
    "data['tanggal_masuk'] = pd.to_datetime(data['tanggal_masuk'], errors='coerce')\n",
    "\n",
    "# Periksa kembali tipe data untuk memastikan kolom tanggal sudah dalam format datetime\n",
    "print(data.dtypes)\n",
    "\n",
    "# Tampilkan kembali jumlah nilai yang hilang setelah konversi\n",
    "print(data.isnull().sum())\n"
   ]
  },
  {
   "cell_type": "code",
   "execution_count": 3,
   "id": "d471dbe9-a64d-4bd0-9053-2a21d9153a2b",
   "metadata": {},
   "outputs": [
    {
     "name": "stdout",
     "output_type": "stream",
     "text": [
      "angk              0\n",
      "status_akhir      0\n",
      "tanggal_keluar    0\n",
      "tanggal_masuk     0\n",
      "lokasi            0\n",
      "dtype: int64\n",
      "   angk status_akhir      tanggal_keluar       tanggal_masuk  \\\n",
      "0  2020        Lulus 2022-08-03 14:24:00 2022-08-03 15:21:59   \n",
      "1  2020        Lulus 2022-08-19 17:00:32 2022-08-19 17:41:35   \n",
      "2  2020        Lulus 2022-08-26 07:31:41 2022-08-26 10:39:39   \n",
      "3  2020        Lulus 2022-08-27 18:13:03 2022-08-27 19:41:12   \n",
      "4  2020        Lulus 2022-08-28 12:59:05 2022-08-28 12:59:15   \n",
      "\n",
      "                  lokasi  \n",
      "0  Kampus IT Del - Pos 1  \n",
      "1  Kampus IT Del - Pos 1  \n",
      "2  Kampus IT Del - Pos 1  \n",
      "3  Kampus IT Del - Pos 1  \n",
      "4  Kampus IT Del - Pos 1  \n"
     ]
    }
   ],
   "source": [
    "# Menghapus kolom yang tidak diperlukan\n",
    "data = data.drop(columns=['Unnamed: 0', 'Unnamed: 1'])\n",
    "\n",
    "# Menghapus baris dengan nilai kosong di kolom 'tanggal_masuk'\n",
    "data = data.dropna(subset=['tanggal_masuk'])\n",
    "\n",
    "# Periksa ulang apakah nilai kosong sudah ditangani\n",
    "print(data.isnull().sum())\n",
    "print(data.head())"
   ]
  },
  {
   "cell_type": "code",
   "execution_count": 4,
   "id": "96ce8042-e2f6-4101-92ab-315ccbd66740",
   "metadata": {},
   "outputs": [
    {
     "name": "stdout",
     "output_type": "stream",
     "text": [
      "   angk status_akhir      tanggal_keluar       tanggal_masuk  \\\n",
      "0  2020        Lulus 2022-08-03 14:24:00 2022-08-03 15:21:59   \n",
      "1  2020        Lulus 2022-08-19 17:00:32 2022-08-19 17:41:35   \n",
      "2  2020        Lulus 2022-08-26 07:31:41 2022-08-26 10:39:39   \n",
      "3  2020        Lulus 2022-08-27 18:13:03 2022-08-27 19:41:12   \n",
      "4  2020        Lulus 2022-08-28 12:59:05 2022-08-28 12:59:15   \n",
      "\n",
      "                  lokasi  durasi_keluar  hari_keluar  jam_keluar  jam_masuk  \n",
      "0  Kampus IT Del - Pos 1      57.983333            2          14         15  \n",
      "1  Kampus IT Del - Pos 1      41.050000            4          17         17  \n",
      "2  Kampus IT Del - Pos 1     187.966667            4           7         10  \n",
      "3  Kampus IT Del - Pos 1      88.150000            5          18         19  \n",
      "4  Kampus IT Del - Pos 1       0.166667            6          12         12  \n"
     ]
    }
   ],
   "source": [
    "# Menghitung Durasi Keluar-Masuk\n",
    "# durasi_keluar, yang menunjukkan selisih waktu antara tanggal_keluar dan tanggal_masuk.\n",
    "\n",
    "#Ekstraksi Fitur Waktu\n",
    "# Hari dalam Seminggu (untuk melihat apakah ada pola keluar-masuk di hari tertentu),\n",
    "# Jam Keluar dan Jam Masuk (untuk menganalisis waktu aktivitas).\n",
    "\n",
    "# Menghitung durasi keluar-masuk (dalam menit)\n",
    "data['durasi_keluar'] = (data['tanggal_masuk'] - data['tanggal_keluar']).dt.total_seconds() / 60  # Durasi dalam menit\n",
    "\n",
    "# Ekstraksi fitur waktu: hari dalam seminggu, jam keluar, dan jam masuk\n",
    "data['hari_keluar'] = data['tanggal_keluar'].dt.dayofweek  # 0 = Senin, 6 = Minggu\n",
    "data['jam_keluar'] = data['tanggal_keluar'].dt.hour\n",
    "data['jam_masuk'] = data['tanggal_masuk'].dt.hour\n",
    "\n",
    "print(data.head())\n"
   ]
  },
  {
   "cell_type": "code",
   "execution_count": 5,
   "id": "f222d975-2190-4966-bb40-458233d74a26",
   "metadata": {},
   "outputs": [
    {
     "name": "stdout",
     "output_type": "stream",
     "text": [
      "       tanggal_keluar       tanggal_masuk jenis_izin kategori_waktu_keluar\n",
      "0 2022-08-03 14:24:00 2022-08-03 15:21:59         IK                 Siang\n",
      "1 2022-08-19 17:00:32 2022-08-19 17:41:35         IB                 Siang\n",
      "2 2022-08-26 07:31:41 2022-08-26 10:39:39    Lainnya                  Pagi\n",
      "3 2022-08-27 18:13:03 2022-08-27 19:41:12         KM                  Sore\n",
      "4 2022-08-28 12:59:05 2022-08-28 12:59:15         IK                 Siang\n"
     ]
    }
   ],
   "source": [
    "# Ekstrak jam dari kolom 'tanggal_keluar' jika belum dilakukan sebelumnya\n",
    "data['jam_keluar'] = data['tanggal_keluar'].dt.hour\n",
    "data['jam_masuk'] = data['tanggal_masuk'].dt.hour\n",
    "\n",
    "# Menambahkan kolom jenis_izin berdasarkan aturan waktu\n",
    "def tentukan_jenis_izin(row):\n",
    "    hari = row['tanggal_keluar'].dayofweek  # 0 = Senin, ..., 6 = Minggu\n",
    "    jam_keluar = row['jam_keluar']\n",
    "    jam_masuk = row['jam_masuk']\n",
    "\n",
    "    # IB (Izin Bermalam)\n",
    "    if hari == 4 and jam_keluar >= 17:  # Jumat sore\n",
    "        if hari <= 6 and jam_masuk <= 20:  # Kembali sebelum Minggu 20:00\n",
    "            return \"IB\"\n",
    "    \n",
    "    # KM (Keluar Masuk)\n",
    "    if jam_keluar >= 16 and jam_keluar <= 24:  # Setelah jam akademik\n",
    "        return \"KM\"\n",
    "    \n",
    "    # IK (Izin Keluar) - pagi/siang jam akademik\n",
    "    if (jam_keluar >= 9 and jam_keluar <= 12) or (jam_keluar >= 13 and jam_keluar <= 17):\n",
    "        return \"IK\"\n",
    "    \n",
    "    return \"Lainnya\"  # Jika tidak memenuhi kriteria izin di atas\n",
    "\n",
    "data['jenis_izin'] = data.apply(tentukan_jenis_izin, axis=1)\n",
    "\n",
    "# Mengelompokkan durasi berdasarkan interval waktu keluar\n",
    "def kategori_waktu_keluar(jam_keluar):\n",
    "    if 6 <= jam_keluar < 12:\n",
    "        return 'Pagi'\n",
    "    elif 12 <= jam_keluar < 18:\n",
    "        return 'Siang'\n",
    "    elif 18 <= jam_keluar < 21:\n",
    "        return 'Sore'\n",
    "    else:\n",
    "        return 'Malam'\n",
    "\n",
    "data['kategori_waktu_keluar'] = data['jam_keluar'].apply(kategori_waktu_keluar)\n",
    "\n",
    "# Periksa hasil\n",
    "print(data[['tanggal_keluar', 'tanggal_masuk', 'jenis_izin', 'kategori_waktu_keluar']].head())\n"
   ]
  },
  {
   "cell_type": "code",
   "execution_count": null,
   "id": "2dcb4344-0f76-4eb6-aea0-0bba906ca3b0",
   "metadata": {},
   "outputs": [],
   "source": []
  }
 ],
 "metadata": {
  "kernelspec": {
   "display_name": "Python 3 (ipykernel)",
   "language": "python",
   "name": "python3"
  },
  "language_info": {
   "codemirror_mode": {
    "name": "ipython",
    "version": 3
   },
   "file_extension": ".py",
   "mimetype": "text/x-python",
   "name": "python",
   "nbconvert_exporter": "python",
   "pygments_lexer": "ipython3",
   "version": "3.9.19"
  }
 },
 "nbformat": 4,
 "nbformat_minor": 5
}
