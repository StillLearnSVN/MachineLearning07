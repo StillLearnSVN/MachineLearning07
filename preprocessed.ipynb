{
 "cells": [
  {
   "cell_type": "markdown",
   "id": "09334c62-beef-475b-91f9-9f94cae78cca",
   "metadata": {},
   "source": [
    "## Preprocessed DATA"
   ]
  },
  {
   "cell_type": "code",
   "execution_count": 1,
   "id": "6c123062-005d-4796-aa55-02ac859acf47",
   "metadata": {},
   "outputs": [
    {
     "name": "stdout",
     "output_type": "stream",
     "text": [
      "                 keperluan izin\n",
      "0  ingin bertemu orang tua   IB\n",
      "1  ingin bertemu orang tua   IB\n",
      "2        libur akhir tahun   IB\n",
      "3           libur semester   IB\n",
      "4        bertemu orang tua   IB\n"
     ]
    }
   ],
   "source": [
    "import pandas as pd\n",
    "\n",
    "file_path = \"dataset.xlsx\"\n",
    "\n",
    "ib_data = pd.read_excel(file_path, sheet_name=\"DATA IB\")\n",
    "ik_data = pd.read_excel(file_path, sheet_name=\"DATA IK\")\n",
    "\n",
    "# kolom yang relevan --> 'keperluan'\n",
    "ib_data = ib_data[[\"desc\"]].rename(columns={\"desc\": \"keperluan\"})\n",
    "ik_data = ik_data[[\"tujuan\"]].rename(columns={\"tujuan\": \"keperluan\"})\n",
    "\n",
    "# add kolom penanda 'izin'\n",
    "ib_data[\"izin\"] = \"IB\"\n",
    "ik_data[\"izin\"] = \"IK\"\n",
    "\n",
    "combined_data = pd.concat([ib_data, ik_data], ignore_index=True)\n",
    "\n",
    "# Bersihkan teks pada kolom 'keperluan'\n",
    "combined_data[\"keperluan\"] = combined_data[\"keperluan\"].str.strip().str.lower()\n",
    "\n",
    "combined_data.to_csv(\"combined_ib_ik_keperluan.csv\", index=False)\n",
    "\n",
    "print(combined_data.head())\n"
   ]
  },
  {
   "cell_type": "code",
   "execution_count": null,
   "id": "f453fca9-76d9-461b-87a4-7b1c86f02d60",
   "metadata": {},
   "outputs": [],
   "source": []
  }
 ],
 "metadata": {
  "kernelspec": {
   "display_name": "Python 3 (ipykernel)",
   "language": "python",
   "name": "python3"
  },
  "language_info": {
   "codemirror_mode": {
    "name": "ipython",
    "version": 3
   },
   "file_extension": ".py",
   "mimetype": "text/x-python",
   "name": "python",
   "nbconvert_exporter": "python",
   "pygments_lexer": "ipython3",
   "version": "3.9.19"
  }
 },
 "nbformat": 4,
 "nbformat_minor": 5
}
