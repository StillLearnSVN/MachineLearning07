{
 "cells": [
  {
   "cell_type": "markdown",
   "id": "9af7a0c0-343c-42c5-9344-36f65d0d0478",
   "metadata": {},
   "source": [
    "# Import libraries"
   ]
  },
  {
   "cell_type": "code",
   "execution_count": 1,
   "id": "83f757bc-1f60-40f2-86e4-113e896f4f35",
   "metadata": {},
   "outputs": [],
   "source": [
    "# Import libraries\n",
    "import pandas as pd\n",
    "import numpy as np\n",
    "import matplotlib.pyplot as plt\n",
    "import seaborn as sns\n",
    "import re\n",
    "\n",
    "from sklearn.feature_extraction.text import TfidfVectorizer\n",
    "from sklearn.model_selection import train_test_split, GridSearchCV\n",
    "from sklearn.tree import DecisionTreeClassifier, plot_tree\n",
    "from sklearn.metrics import classification_report, confusion_matrix\n",
    "from sklearn.decomposition import PCA\n",
    "from sklearn.cluster import KMeans\n",
    "from Sastrawi.StopWordRemover.StopWordRemoverFactory import StopWordRemoverFactory\n",
    "from collections import Counter"
   ]
  },
  {
   "cell_type": "markdown",
   "id": "c46bac67-fc55-4fd7-b574-4fe88f3822f4",
   "metadata": {},
   "source": [
    "# Step 1: Load datasets"
   ]
  },
  {
   "cell_type": "code",
   "execution_count": 2,
   "id": "584e06ea-4e0b-49c6-ae68-06b600643bb8",
   "metadata": {},
   "outputs": [],
   "source": [
    "\n",
    "# Step 1: Load datasets\n",
    "file_path = 'dataset.xlsx'  # Ubah ke lokasi file Anda\n",
    "data_ik = pd.read_excel(file_path, sheet_name='DATA IK')\n",
    "data_ib = pd.read_excel(file_path, sheet_name='DATA IB')"
   ]
  },
  {
   "cell_type": "markdown",
   "id": "ef4a86a7-9a10-4991-8579-66f920dc57bd",
   "metadata": {},
   "source": [
    "# Step 2: Preprocessing - Combine and clean data"
   ]
  },
  {
   "cell_type": "code",
   "execution_count": 3,
   "id": "6357466e-87de-4165-ba13-aad3b7b96c99",
   "metadata": {},
   "outputs": [],
   "source": [
    "# Step 2: Preprocessing - Combine and clean data\n",
    "data_ik = data_ik[['tujuan']].rename(columns={'tujuan': 'keperluan'})\n",
    "data_ib = data_ib[['desc']].rename(columns={'desc': 'keperluan'})\n",
    "data_combined = pd.concat([data_ik, data_ib], ignore_index=True)\n",
    "data_combined.dropna(subset=['keperluan'], inplace=True)"
   ]
  },
  {
   "cell_type": "markdown",
   "id": "b342cd46-8976-47ee-8924-287f5d84ccfe",
   "metadata": {},
   "source": [
    "# Step 3: Clean text data\n",
    "Regex (Regular Expression) adalah alat yang sangat berguna untuk memanipulasi teks. Dengan regex, Anda dapat mendefinisikan pola yang kompleks untuk menemukan dan mengubah bagian teks tertentu dengan mudah."
   ]
  },
  {
   "cell_type": "code",
   "execution_count": 4,
   "id": "c09f7aaf-6c48-4361-b25a-dcac2557f3bd",
   "metadata": {},
   "outputs": [],
   "source": [
    "# Step 3: Clean text data\n",
    "def clean_text(text):\n",
    "    text = text.lower()\n",
    "    text = re.sub(r\"[^a-zA-Z\\s]\", \"\", text)  # Menghapus simbol dan angka\n",
    "    text = re.sub(r\"\\s+\", \" \", text).strip()  # Menghapus whitespace berlebih\n",
    "    return text\n",
    "\n",
    "data_combined['keperluan'] = data_combined['keperluan'].apply(clean_text)\n"
   ]
  },
  {
   "cell_type": "code",
   "execution_count": 5,
   "id": "7c7786dd-f904-47fc-bd49-286a825fabb0",
   "metadata": {},
   "outputs": [
    {
     "name": "stdout",
     "output_type": "stream",
     "text": [
      "Top 10 Words by Frequency:\n",
      "pulang: 25264\n",
      "rumah: 19718\n",
      "ke: 18486\n",
      "bertemu: 15078\n",
      "libur: 14995\n",
      "orang: 11005\n",
      "tua: 10881\n",
      "keluarga: 10727\n",
      "kerumah: 9388\n",
      "dan: 7383\n"
     ]
    }
   ],
   "source": [
    "# Step 4: Count unique words\n",
    "all_text = \" \".join(data_combined['keperluan'])\n",
    "word_counts = Counter(all_text.split())\n",
    "top_words = word_counts.most_common(10)  # TOP 10 words\n",
    "print(\"Top 10 Words by Frequency:\")\n",
    "for word, count in top_words:\n",
    "    print(f\"{word}: {count}\")"
   ]
  },
  {
   "cell_type": "code",
   "execution_count": 6,
   "id": "8bdc1f99-bb2f-4fba-9be4-206a70c5b386",
   "metadata": {},
   "outputs": [],
   "source": [
    "# Step 5: Categorize \"keperluan\"\n",
    "def classify_keperluan(text):\n",
    "    if re.search(r\"(laptop|printer|service|barang)\", text):\n",
    "        return \"Memperbaiki Barang\"\n",
    "    elif re.search(r\"(orangtua|keluarga|pulang|rumah|bertemu)\", text):\n",
    "        return \"Bertemu Keluarga\"\n",
    "    elif re.search(r\"(proyek|PKM|tugas|makalah|observasi|akhir|data)\", text):\n",
    "        return \"Tugas Kuliah\"\n",
    "    elif re.search(r\"(kontrol|gigi|sakit|berobat|obat)\", text):\n",
    "        return \"Pergi ke Klinik\"\n",
    "    elif re.search(r\"(membeli|pribadi|mengurus|rekening|tabungan)\", text):\n",
    "        return \"Urusan Pribadi\"\n",
    "    elif re.search(r\"(wisuda|graduation|clearance)\", text):\n",
    "        return \"Tamat Kuliah\"\n",
    "    else:\n",
    "        return \"Lainnya\"\n",
    "\n",
    "data_combined['kategori'] = data_combined['keperluan'].apply(classify_keperluan)"
   ]
  },
  {
   "cell_type": "code",
   "execution_count": 7,
   "id": "dc547aeb-fb3b-4f39-b7a9-40031ca78322",
   "metadata": {},
   "outputs": [],
   "source": [
    "\n",
    "# Mengurutkan kategori berdasarkan jumlah\n",
    "kategori_counts = data_combined['kategori'].value_counts()\n",
    "data_combined['kategori'] = pd.Categorical(data_combined['kategori'], categories=kategori_counts.index, ordered=True)"
   ]
  },
  {
   "cell_type": "markdown",
   "id": "252bbc0a-6f54-48c5-8a28-d805fc36c6f9",
   "metadata": {},
   "source": [
    "# Step 6: TF-IDF Vectorization\n",
    "\n",
    "- Reprensentasi Fitur yang Efisien: TF-IDF (Term Frequency-Inverse Document Frequency) mengukur pentingnya kata dalam sebuah dokumen relatif terhadap seluruh korpus. Ini memberikan bobot lebih tinggi pada kata-kata yang jarang tetapi informatif.\n",
    "- Mengurangi Dimensi: Dengan mengatur max_features=500, hanya 500 fitur yang paling relevan yang dipertahankan, sehingga mengurangi dimensi data dan mengurangi risiko overfitting.\n",
    "- Stop Words Removal: Menggunakan daftar stop words dalam Bahasa Indonesia dari Sastrawi untuk menghapus kata-kata umum yang tidak membawa informasi penting, seperti \"dan\", \"atau\", \"yang\", dll.\n",
    "#### TF-IDF merupakan metode yang sangat populer dan efektif dalam pencarian informasi dan analisis teks karena bisa memberikan representasi numerik yang lebih baik dari teks tanpa kehilangan konteks penting. Ini juga memungkinkan model untuk membedakan antara kata-kata yang sering muncul di hampir semua dokumen (yang akan memiliki bobot rendah) dan kata-kata yang jarang tetapi penting."
   ]
  },
  {
   "cell_type": "code",
   "execution_count": 8,
   "id": "3d7abc87-65fb-4847-b41f-60e3c777fc14",
   "metadata": {},
   "outputs": [],
   "source": [
    "# Step 6: TF-IDF Vectorization\n",
    "factory = StopWordRemoverFactory()\n",
    "stop_words_indonesian = factory.get_stop_words()\n",
    "\n",
    "vectorizer = TfidfVectorizer(max_features=500, stop_words=stop_words_indonesian)\n",
    "X = vectorizer.fit_transform(data_combined['keperluan']).toarray()\n",
    "y = data_combined['kategori']\n"
   ]
  },
  {
   "cell_type": "markdown",
   "id": "47fb0401-4820-4391-bcfb-d3e2b27249b3",
   "metadata": {},
   "source": [
    "# Step 7: Train-Test Split\n",
    "\n",
    "#### Evaluasi Model yang Objektif: Pembagian data menjadi dua set (train dan test) memungkinkan untuk mengevaluasi model secara adil. Stratify=y memastikan bahwa proporsi kategori target di data latih dan uji tetap seimbang, yang penting untuk menghindari bias.\n",
    "#### Generalization: Dengan membagi data, model dapat dilatih pada data yang berbeda dari data yang digunakan untuk evaluasi, yang membantu memastikan model tidak overfit dan dapat bekerja dengan baik pada data baru."
   ]
  },
  {
   "cell_type": "markdown",
   "id": "85cb8fd8-f791-4c78-8fff-6b31e5023d8f",
   "metadata": {},
   "source": [
    "X_train: Fitur untuk data latih, yang akan digunakan untuk melatih model.\n",
    "\n",
    "X_test: Fitur untuk data uji, yang akan digunakan untuk menguji kinerja model setelah dilatih.\n",
    "\n",
    "y_train: Label untuk data latih, yang digunakan untuk melatih model.\n",
    "\n",
    "y_test: Label untuk data uji, yang digunakan untuk mengevaluasi kinerja model"
   ]
  },
  {
   "cell_type": "code",
   "execution_count": 9,
   "id": "23004047-f6bc-4d6b-9cee-d4556886b724",
   "metadata": {},
   "outputs": [],
   "source": [
    "# Step 7: Train-Test Split\n",
    "X_train, X_test, y_train, y_test = train_test_split(X, y, test_size=0.2, random_state=42, stratify=y)"
   ]
  },
  {
   "cell_type": "markdown",
   "id": "6c312172-3031-4673-a2b4-931634b1c545",
   "metadata": {},
   "source": [
    "# Step 8: Hyperparameter Tuning for Decision Tree\n",
    "\n",
    "#### Efisiensi dalam Penyetelan Parameter: GridSearchCV mengotomatisasi pencarian untuk parameter terbaik, yang akan memaksimalkan kinerja model tanpa memerlukan eksperimen manual.\n",
    "\n",
    " - Pencarian Parameter Terbaik: GridSearchCV memungkinkan kita untuk mencari secara sistematis kombinasi parameter yang memberikan hasil terbaik, yang dapat meningkatkan kinerja model.\n",
    " - Cross-Validation: Dengan menggunakan cv=5, Anda memastikan bahwa model diuji pada beberapa subset data, yang memberikan hasil yang lebih stabil dan mengurangi kemungkinan overfitting pada data latih tertentu."
   ]
  },
  {
   "cell_type": "markdown",
   "id": "ccb86142-265f-4ebd-80ca-5ccffc5f2bfe",
   "metadata": {},
   "source": [
    "# Decision Tree Classifier\n",
    "#### Interpretabilitas dan Sederhana: Decision Tree mudah dipahami, bahkan oleh orang yang tidak berpengalaman dalam machine learning. Ini cocok untuk aplikasi yang memerlukan transparansi tentang bagaimana keputusan dibuat.\n",
    "#### Kemampuan untuk menangani berbagai jenis data: Decision Tree bisa menangani data kategorikal maupun numerik dengan baik, yang membuatnya sangat fleksibel.\n",
    "#### Tahan Terhadap Overfitting (dengan tuning): Dengan pengaturan hyperparameter yang tepat (seperti kedalaman maksimum), Decision Tree dapat memberikan performa yang sangat baik tanpa overfitting.\n",
    "\n",
    "#### - Interpretabilitas dan Sederhana: Decision Tree mudah dipahami, bahkan oleh orang yang tidak berpengalaman dalam machine learning. Ini cocok untuk aplikasi yang memerlukan transparansi tentang bagaimana keputusan dibuat.\n",
    "#### - Kemampuan untuk menangani berbagai jenis data: Decision Tree bisa menangani data kategorikal maupun numerik dengan baik, yang membuatnya sangat fleksibel.\n",
    "#### - Tahan Terhadap Overfitting (dengan tuning): Dengan pengaturan hyperparameter yang tepat (seperti kedalaman maksimum), Decision Tree dapat memberikan performa yang sangat baik tanpa overfitting."
   ]
  },
  {
   "cell_type": "code",
   "execution_count": null,
   "id": "5f27fa84-5ac0-4725-8431-2fee5656fe39",
   "metadata": {},
   "outputs": [],
   "source": [
    "# Step 8: Hyperparameter Tuning for Decision Tree\n",
    "dt_model = DecisionTreeClassifier(random_state=42)\n",
    "param_grid = {\n",
    "    'max_depth': [3, 5, 10, None],\n",
    "    'min_samples_split': [10, 20, 30],\n",
    "    'min_samples_leaf': [5, 10, 15]\n",
    "}\n",
    "grid_search = GridSearchCV(dt_model, param_grid, scoring='accuracy', cv=5)\n",
    "grid_search.fit(X_train, y_train)\n",
    "\n",
    "best_params = grid_search.best_params_\n",
    "print(\"Best Parameters for Decision Tree:\", best_params)\n",
    "\n",
    "# Train the Decision Tree with best parameters\n",
    "dt_model = DecisionTreeClassifier(random_state=42, **best_params)\n",
    "dt_model.fit(X_train, y_train)\n"
   ]
  },
  {
   "cell_type": "code",
   "execution_count": null,
   "id": "6f555fda-d2a5-44f7-a63e-a3a6e6c32af6",
   "metadata": {},
   "outputs": [],
   "source": [
    "\n",
    "# Step 9: Evaluate Model\n",
    "y_pred = dt_model.predict(X_test)\n",
    "print(\"Classification Report:\\n\", classification_report(y_test, y_pred))\n",
    "\n",
    "cm = confusion_matrix(y_test, y_pred)\n",
    "plt.figure(figsize=(8, 6))\n",
    "sns.heatmap(cm, annot=True, fmt='d', cmap='Blues')\n",
    "plt.title('Confusion Matrix', fontsize=16)\n",
    "plt.xlabel('Predicted', fontsize=12)\n",
    "plt.ylabel('Actual', fontsize=12)\n",
    "plt.show()\n"
   ]
  },
  {
   "cell_type": "markdown",
   "id": "d2cfad21-7113-4e90-88ab-a02296798c43",
   "metadata": {},
   "source": [
    "Decision tree memungkinkan kita untuk melihat bagaimana model membuat keputusan berdasarkan fitur. Ini meningkatkan kepercayaan terhadap model, karena kita bisa memahami jalur yang diambil untuk sampai pada keputusan tertentu."
   ]
  },
  {
   "cell_type": "code",
   "execution_count": null,
   "id": "da93f359-dbaf-4c49-861f-fd83a84282fa",
   "metadata": {},
   "outputs": [],
   "source": [
    "# 1. Import library yang dibutuhkan\n",
    "from sklearn.tree import DecisionTreeClassifier, plot_tree\n",
    "import matplotlib.pyplot as plt\n",
    "\n",
    "# 2. Buat model\n",
    "dt_model = DecisionTreeClassifier(\n",
    "    max_depth=5,\n",
    "    min_samples_split=50,\n",
    "    min_samples_leaf=20,\n",
    "    random_state=42\n",
    ")\n",
    "\n",
    "# 3. Training model dengan data\n",
    "dt_model.fit(X_train, y_train)  # Pastikan X_train dan y_train sudah didefinisikan\n",
    "\n",
    "# 4. Visualisasi tree\n",
    "plt.figure(figsize=(10, 6))\n",
    "plot_tree(dt_model, class_names=dt_model.classes_, filled=True, fontsize=6)\n",
    "plt.title(\"Decision Tree Visualization\")\n",
    "plt.show()"
   ]
  },
  {
   "cell_type": "markdown",
   "id": "83006668-6af9-4558-90a1-5e5db87395da",
   "metadata": {},
   "source": [
    "Keuntungan Penggunaan:\n",
    "\n",
    "Unsupervised Learning: K-Means adalah algoritma unsupervised learning yang mengelompokkan data berdasarkan kesamaan fitur. Ini berguna ketika Anda tidak memiliki label kategori untuk semua data, tetapi ingin menemukan pola atau struktur dalam data.\n",
    "Menemukan Pola dalam Data: Dengan menggunakan PCA untuk mereduksi dimensi, Anda dapat visualisasikan cluster dalam dua dimensi dan memahami bagaimana data dikelompokkan. Ini membantu dalam pencarian pola dan pemahaman lebih dalam mengenai data.\n",
    "Kenapa Memilih K-Means:\n",
    "\n",
    "Simplicity dan Efektivitas: K-Means adalah salah satu algoritma clustering yang paling sederhana dan efektif, cocok untuk menemukan pola dalam dataset yang besar tanpa membutuhkan label."
   ]
  },
  {
   "cell_type": "code",
   "execution_count": null,
   "id": "7a0d8de0-7edf-4d18-9759-ed7cd699faa4",
   "metadata": {},
   "outputs": [],
   "source": [
    "# Step 11: K-Means Clustering\n",
    "pca = PCA(n_components=2)  # Reduksi ke 2 dimensi\n",
    "X_pca = pca.fit_transform(X)\n",
    "kmeans = KMeans(n_clusters=5, random_state=42, n_init=20).fit(X_pca)\n",
    "y_kmeans = kmeans.predict(X_pca)\n",
    "\n",
    "plt.figure(figsize=(10, 8))\n",
    "plt.scatter(X_pca[:, 0], X_pca[:, 1], c=y_kmeans, cmap='viridis', marker='o', s=30, label='Data Points')\n",
    "plt.scatter(kmeans.cluster_centers_[:, 0], kmeans.cluster_centers_[:, 1], c='red', marker='x', s=200, label='Centroids')\n",
    "plt.title(\"KMeans Clustering Visualization (2D)\")\n",
    "plt.xlabel(\"PCA Feature 1\")\n",
    "plt.ylabel(\"PCA Feature 2\")\n",
    "plt.legend()\n",
    "plt.grid(True)\n",
    "plt.show()\n"
   ]
  },
  {
   "cell_type": "code",
   "execution_count": null,
   "id": "5e82ddc9-ab97-42a4-a486-d8a0bd199130",
   "metadata": {},
   "outputs": [],
   "source": [
    "\n",
    "# Step 12: Add Business Opportunities Based on Category\n",
    "recommendations = {\n",
    "    \"Bertemu Keluarga\": \"Jasa Transportasi dan Ruang Pertemuan\",\n",
    "    \"Pergi ke Klinik\": \"Klinik Kesehatan atau Apotek\",\n",
    "    \"Tugas Kuliah\": \"Pusat Fotokopi atau Jasa Pengetikan\",\n",
    "    \"Memperbaiki Barang\": \"Toko Elektronik atau Reparasi Barang\",\n",
    "    \"Urusan Pribadi\": \"Layanan Logistik atau Pengurusan Dokumen\",\n",
    "    \"Tamat Kuliah\": \"Jasa Fotografi atau Penyewaan Kostum\",\n",
    "    \"Lainnya\": \"Usaha General seperti Minimarket\"\n",
    "}\n"
   ]
  },
  {
   "cell_type": "code",
   "execution_count": null,
   "id": "1f5dcd95-dc33-4e25-b632-10af25b9a89d",
   "metadata": {},
   "outputs": [],
   "source": [
    "\n",
    "# Step 13: Create Summary Table for Business Opportunities\n",
    "summary_table = pd.DataFrame({\n",
    "    \"Kategori\": kategori_counts.index,\n",
    "    \"Peluang Bisnis\": [recommendations.get(kategori, \"Lainnya\") for kategori in kategori_counts.index]\n",
    "})\n",
    "\n",
    "print(\"\\nSummary Table with Business Opportunities:\")\n",
    "print(summary_table)"
   ]
  },
  {
   "cell_type": "code",
   "execution_count": null,
   "id": "3f87cd60-5155-4c62-a9d0-219bcf617370",
   "metadata": {},
   "outputs": [],
   "source": [
    "# Step 14: Export categorized data (optional)\n",
    "data_combined.to_csv(\"categorized_keperluan.csv\", index=False)\n",
    "print(\"Data dengan kategori berhasil diekspor ke 'categorized_keperluan.csv'.\")"
   ]
  },
  {
   "cell_type": "code",
   "execution_count": null,
   "id": "dad5b344-de45-4670-a3d3-0749d8682e82",
   "metadata": {},
   "outputs": [],
   "source": []
  }
 ],
 "metadata": {
  "kernelspec": {
   "display_name": "Python 3 (ipykernel)",
   "language": "python",
   "name": "python3"
  },
  "language_info": {
   "codemirror_mode": {
    "name": "ipython",
    "version": 3
   },
   "file_extension": ".py",
   "mimetype": "text/x-python",
   "name": "python",
   "nbconvert_exporter": "python",
   "pygments_lexer": "ipython3",
   "version": "3.11.5"
  }
 },
 "nbformat": 4,
 "nbformat_minor": 5
}
